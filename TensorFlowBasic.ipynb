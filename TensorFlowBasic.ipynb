{
  "nbformat": 4,
  "nbformat_minor": 0,
  "metadata": {
    "colab": {
      "name": "TensorFlowBasic.ipynb",
      "version": "0.3.2",
      "provenance": []
    },
    "kernelspec": {
      "name": "python3",
      "display_name": "Python 3"
    }
  },
  "cells": [
    {
      "cell_type": "markdown",
      "metadata": {
        "id": "view-in-github",
        "colab_type": "text"
      },
      "source": [
        "[View in Colaboratory](https://colab.research.google.com/github/kekayan/tfbasics/blob/addpic/TensorFlowBasic.ipynb)"
      ]
    },
    {
      "metadata": {
        "id": "Vn3T_R1HnV8P",
        "colab_type": "text"
      },
      "cell_type": "markdown",
      "source": [
        "## Intro to TensorFlow"
      ]
    },
    {
      "metadata": {
        "id": "8gturcdqnMGf",
        "colab_type": "code",
        "colab": {}
      },
      "cell_type": "code",
      "source": [
        "import tensorflow as tf\n",
        "import numpy as np\n",
        "import matplotlib.pyplot as plt"
      ],
      "execution_count": 0,
      "outputs": []
    },
    {
      "metadata": {
        "id": "-iL-9vgunzGm",
        "colab_type": "text"
      },
      "cell_type": "markdown",
      "source": [
        "![alt text](https://github.com/aamini/introtodeeplearning_labs/raw/c7b3c0f5734a4dab11e1b37feb8f3c0afd73be88/lab1/img/add-graph.png)"
      ]
    },
    {
      "metadata": {
        "id": "fWcBBIhxpeFm",
        "colab_type": "code",
        "colab": {
          "base_uri": "https://localhost:8080/",
          "height": 35
        },
        "outputId": "6900115b-cff0-4f8b-b13d-c702d437484c"
      },
      "cell_type": "code",
      "source": [
        "a=tf.constant(15,name=\"a\")\n",
        "b=tf.constant(61,name=\"b\")\n",
        "\n",
        "c=tf.add(a,b,name=\"c\")\n",
        "print(c)"
      ],
      "execution_count": 2,
      "outputs": [
        {
          "output_type": "stream",
          "text": [
            "Tensor(\"c:0\", shape=(), dtype=int32)\n"
          ],
          "name": "stdout"
        }
      ]
    },
    {
      "metadata": {
        "id": "UhUcYjhPsqX9",
        "colab_type": "text"
      },
      "cell_type": "markdown",
      "source": [
        "the output is still an abstract Tensor -- just created a computation graph consisting of operations. To actually get our result, have to run a session to execute the graph."
      ]
    },
    {
      "metadata": {
        "id": "dywPt7m7s0PN",
        "colab_type": "text"
      },
      "cell_type": "markdown",
      "source": [
        "![alt text](https://github.com/aamini/introtodeeplearning_labs/raw/c7b3c0f5734a4dab11e1b37feb8f3c0afd73be88/lab1/img/computation-graph.png)"
      ]
    },
    {
      "metadata": {
        "id": "bp7N8k4hqDje",
        "colab_type": "code",
        "colab": {}
      },
      "cell_type": "code",
      "source": [
        "a=tf.placeholder(tf.float32)\n",
        "b=tf.placeholder(tf.float32)\n",
        "\n",
        "c=tf.add(a,b)\n",
        "d=tf.subtract(b,1)\n",
        "e=tf.multiply(c,d)"
      ],
      "execution_count": 0,
      "outputs": []
    },
    {
      "metadata": {
        "id": "5IDONc6DtX9U",
        "colab_type": "code",
        "colab": {
          "base_uri": "https://localhost:8080/",
          "height": 35
        },
        "outputId": "e64cbf4e-ba38-4f9d-a91d-7ea2dd1de8b8"
      },
      "cell_type": "code",
      "source": [
        "with tf.Session() as session:\n",
        "  a_data,b_data=2.0,3.0\n",
        "  feed_dict={a:a_data,b:b_data}\n",
        "  output=session.run(e,feed_dict=feed_dict)\n",
        "  print(output)"
      ],
      "execution_count": 7,
      "outputs": [
        {
          "output_type": "stream",
          "text": [
            "10.0\n"
          ],
          "name": "stdout"
        }
      ]
    },
    {
      "metadata": {
        "id": "1LGBl65MTtWq",
        "colab_type": "text"
      },
      "cell_type": "markdown",
      "source": [
        "First, we used feed_dict to pass in the input data, and then used session.run to run the graph and grab the output from the operation in the graph. e is at the end of the graph, so we ran the entire graph and returned the result."
      ]
    },
    {
      "metadata": {
        "id": "c2ewUlS0uDen",
        "colab_type": "code",
        "colab": {}
      },
      "cell_type": "code",
      "source": [
        ""
      ],
      "execution_count": 0,
      "outputs": []
    }
  ]
}