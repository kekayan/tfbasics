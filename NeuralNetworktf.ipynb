{
  "nbformat": 4,
  "nbformat_minor": 0,
  "metadata": {
    "colab": {
      "name": "NeuralNetworktf.ipynb",
      "version": "0.3.2",
      "provenance": []
    },
    "kernelspec": {
      "name": "python3",
      "display_name": "Python 3"
    }
  },
  "cells": [
    {
      "cell_type": "markdown",
      "metadata": {
        "id": "view-in-github",
        "colab_type": "text"
      },
      "source": [
        "[View in Colaboratory](https://colab.research.google.com/github/kekayan/tfbasics/blob/master/NeuralNetworktf.ipynb)"
      ]
    },
    {
      "metadata": {
        "id": "k-h4sv9tU7pG",
        "colab_type": "text"
      },
      "cell_type": "markdown",
      "source": [
        "## Neural Networks in TensorFlow"
      ]
    },
    {
      "metadata": {
        "id": "DTsFjzaFVFna",
        "colab_type": "text"
      },
      "cell_type": "markdown",
      "source": [
        "We can define neural networks in TensorFlow using computation graphs.\n",
        " an example of a very simple neural network (just 1 perceptron)"
      ]
    },
    {
      "metadata": {
        "id": "8uQmHCOdVINX",
        "colab_type": "text"
      },
      "cell_type": "markdown",
      "source": [
        "![alt text](https://github.com/aamini/introtodeeplearning_labs/raw/c7b3c0f5734a4dab11e1b37feb8f3c0afd73be88/lab1/img/computation-graph-2.png)"
      ]
    },
    {
      "metadata": {
        "id": "ZtOEhX8iWJTd",
        "colab_type": "code",
        "colab": {}
      },
      "cell_type": "code",
      "source": [
        "\n",
        "import  tensorflow  as tf\n",
        "import numpy as np\n",
        "import matplotlib.pyplot as plt"
      ],
      "execution_count": 0,
      "outputs": []
    },
    {
      "metadata": {
        "id": "JaKLmzkxU2TQ",
        "colab_type": "code",
        "colab": {}
      },
      "cell_type": "code",
      "source": [
        "n_input_nodes=2\n",
        "n_output_nodes=1\n",
        "x=tf.placeholder(tf.float32,(None,n_input_nodes))\n",
        "W = tf.Variable(tf.ones((n_input_nodes, n_output_nodes)), dtype=tf.float32)\n",
        "b = tf.Variable(tf.zeros(n_output_nodes), dtype=tf.float32)\n"
      ],
      "execution_count": 0,
      "outputs": []
    },
    {
      "metadata": {
        "id": "qf3np1X-WRPZ",
        "colab_type": "code",
        "colab": {}
      },
      "cell_type": "code",
      "source": [
        "z=tf.add(tf.matmul(x,W),b)\n",
        "out=tf.sigmoid(z)"
      ],
      "execution_count": 0,
      "outputs": []
    },
    {
      "metadata": {
        "id": "szea7mRGWmRU",
        "colab_type": "code",
        "colab": {
          "base_uri": "https://localhost:8080/",
          "height": 35
        },
        "outputId": "2140cb58-45a3-4e6c-c5b2-a8f9a8769e0b"
      },
      "cell_type": "code",
      "source": [
        "test_input = [[0.25, 0.15]]\n",
        "graph=tf.Graph()\n",
        "with tf.Session() as session:\n",
        "    tf.global_variables_initializer().run(session=session)\n",
        "    feed_dict = {x:test_input}\n",
        "    output = session.run(out,feed_dict)\n",
        "    print(output[0]) "
      ],
      "execution_count": 9,
      "outputs": [
        {
          "output_type": "stream",
          "text": [
            "[0.59868765]\n"
          ],
          "name": "stdout"
        }
      ]
    },
    {
      "metadata": {
        "id": "8KAmNqRvXGIO",
        "colab_type": "code",
        "colab": {}
      },
      "cell_type": "code",
      "source": [
        ""
      ],
      "execution_count": 0,
      "outputs": []
    }
  ]
}